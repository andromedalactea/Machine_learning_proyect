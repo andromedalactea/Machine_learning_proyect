{
 "cells": [
  {
   "cell_type": "code",
   "execution_count": 1,
   "metadata": {},
   "outputs": [],
   "source": [
    "import pandas as pd\n",
    "import re\n",
    "import numpy as np \n",
    "import pymysql"
   ]
  },
  {
   "attachments": {},
   "cell_type": "markdown",
   "metadata": {},
   "source": [
    "**Charging Data from python to MySQL**"
   ]
  },
  {
   "cell_type": "code",
   "execution_count": 2,
   "metadata": {},
   "outputs": [],
   "source": [
    "\n",
    "#connection to local server\n",
    "conexion = pymysql.connect(\n",
    "   host='localhost',\n",
    "   database='',\n",
    "   user='root',\n",
    "   password='0wG7@kcW'\n",
    ")\n",
    "cursor=conexion.cursor()"
   ]
  },
  {
   "cell_type": "code",
   "execution_count": 3,
   "metadata": {},
   "outputs": [
    {
     "data": {
      "text/plain": [
       "0"
      ]
     },
     "execution_count": 3,
     "metadata": {},
     "output_type": "execute_result"
    }
   ],
   "source": [
    "#Use the database of the movies on SQL \n",
    "cursor.execute('use movies_data')"
   ]
  },
  {
   "cell_type": "code",
   "execution_count": 7,
   "metadata": {},
   "outputs": [],
   "source": [
    "#Querys(SQL) to insert the data in the tables of the diferents platforms of movies \n",
    "insert_amazon='''\n",
    "INSERT INTO amazon_prime_titles (show_id, type_, title, director, cast, country, date_added,\n",
    "release_year, rating, duration, listed_in, description_)\n",
    "VALUES (%s,%s,%s,%s,%s,%s,%s,%s,%s,%s,%s,%s)\n",
    "'''\n",
    "insert_disney='''\n",
    "INSERT INTO disney_plus_titles (show_id, type_, title, director, cast, country, date_added,\n",
    "release_year, rating, duration, listed_in, description_)\n",
    "VALUES (%s,%s,%s,%s,%s,%s,%s,%s,%s,%s,%s,%s)\n",
    "'''\n",
    "insert_hulu='''\n",
    "INSERT INTO hulu_titles (show_id, type_, title, director, cast, country, date_added,\n",
    "release_year, rating, duration, listed_in, description_)\n",
    "VALUES (%s,%s,%s,%s,%s,%s,%s,%s,%s,%s,%s,%s)\n",
    "'''\n",
    "insert_netflix='''\n",
    "INSERT INTO netflix_titles (show_id, type_, title, director, cast, country, date_added,\n",
    "release_year, rating, duration, listed_in, description_)\n",
    "VALUES (%s,%s,%s,%s,%s,%s,%s,%s,%s,%s,%s,%s)\n",
    "'''"
   ]
  },
  {
   "cell_type": "code",
   "execution_count": 5,
   "metadata": {},
   "outputs": [],
   "source": [
    "#Reading data for the diferents platforms of movies with Pandas \n",
    "data_amazon=pd.read_csv('Data_movies\\\\amazon_prime_titles.csv')\n",
    "data_disney=pd.read_csv('Data_movies\\\\disney_plus_titles.csv')\n",
    "data_hulu=pd.read_csv('Data_movies\\\\hulu_titles.csv')\n",
    "data_netflix=pd.read_csv('Data_movies\\\\netflix_titles.csv')"
   ]
  },
  {
   "cell_type": "code",
   "execution_count": 6,
   "metadata": {},
   "outputs": [],
   "source": [
    "#Replace empty values for the NULL format of SQL\n",
    "\n",
    "# Replace empty values with NaN\n",
    "data_amazon.replace('', np.nan, inplace=True)\n",
    "data_disney.replace('', np.nan, inplace=True)\n",
    "data_hulu.replace('', np.nan, inplace=True)\n",
    "data_netflix.replace('', np.nan, inplace=True)\n",
    "\n",
    "# Replace NaN with NULL\n",
    "data_amazon.fillna(value='NULL', inplace=True)\n",
    "data_disney.fillna(value='NULL', inplace=True)\n",
    "data_hulu.fillna(value='NULL', inplace=True)\n",
    "data_netflix.fillna(value='NULL', inplace=True)"
   ]
  },
  {
   "cell_type": "code",
   "execution_count": 9,
   "metadata": {},
   "outputs": [],
   "source": [
    "#Charging data  in csv, to tuples to be load to MySQL \n",
    "movies_amazon=[(data_amazon.iloc[i]['show_id'],data_amazon.iloc[i]['type'],data_amazon.iloc[i]['title'],data_amazon.iloc[i]['director'],data_amazon.iloc[i]['cast'],data_amazon.iloc[i]['country'],data_amazon.iloc[i]['date_added'],data_amazon.iloc[i]['release_year'],data_amazon.iloc[i]['rating'],data_amazon.iloc[i]['duration'],data_amazon.iloc[i]['listed_in'],data_amazon.iloc[i]['description']) for i in range (0,len(data_amazon))]\n",
    "movies_disney=[(data_disney.iloc[i]['show_id'],data_disney.iloc[i]['type'],data_disney.iloc[i]['title'],data_disney.iloc[i]['director'],data_disney.iloc[i]['cast'],data_disney.iloc[i]['country'],data_disney.iloc[i]['date_added'],data_disney.iloc[i]['release_year'],data_disney.iloc[i]['rating'],data_disney.iloc[i]['duration'],data_disney.iloc[i]['listed_in'],data_disney.iloc[i]['description']) for i in range (0,len(data_disney))]\n",
    "movies_hulu=[(data_hulu.iloc[i]['show_id'],data_hulu.iloc[i]['type'],data_hulu.iloc[i]['title'],data_hulu.iloc[i]['director'],data_hulu.iloc[i]['cast'],data_hulu.iloc[i]['country'],data_hulu.iloc[i]['date_added'],data_hulu.iloc[i]['release_year'],data_hulu.iloc[i]['rating'],data_hulu.iloc[i]['duration'],data_hulu.iloc[i]['listed_in'],data_hulu.iloc[i]['description']) for i in range (0,len(data_hulu))]\n",
    "movies_netflix=[(data_netflix.iloc[i]['show_id'],data_netflix.iloc[i]['type'],data_netflix.iloc[i]['title'],data_netflix.iloc[i]['director'],data_netflix.iloc[i]['cast'],data_netflix.iloc[i]['country'],data_netflix.iloc[i]['date_added'],data_netflix.iloc[i]['release_year'],data_netflix.iloc[i]['rating'],data_netflix.iloc[i]['duration'],data_netflix.iloc[i]['listed_in'],data_netflix.iloc[i]['description']) for i in range (0,len(data_netflix))]"
   ]
  },
  {
   "cell_type": "code",
   "execution_count": 25,
   "metadata": {},
   "outputs": [
    {
     "data": {
      "text/plain": [
       "8807"
      ]
     },
     "execution_count": 25,
     "metadata": {},
     "output_type": "execute_result"
    }
   ],
   "source": [
    "#Insert data of movies on MySql\n",
    "cursor.executemany(insert_amazon,movies_amazon)\n",
    "cursor.executemany(insert_disney,movies_disney)\n",
    "cursor.executemany(insert_hulu,movies_hulu)\n",
    "cursor.executemany(insert_netflix,movies_netflix)"
   ]
  },
  {
   "cell_type": "code",
   "execution_count": 26,
   "metadata": {},
   "outputs": [],
   "source": [
    "conexion.commit()"
   ]
  }
 ],
 "metadata": {
  "kernelspec": {
   "display_name": "Python 3",
   "language": "python",
   "name": "python3"
  },
  "language_info": {
   "codemirror_mode": {
    "name": "ipython",
    "version": 3
   },
   "file_extension": ".py",
   "mimetype": "text/x-python",
   "name": "python",
   "nbconvert_exporter": "python",
   "pygments_lexer": "ipython3",
   "version": "3.10.11"
  },
  "orig_nbformat": 4
 },
 "nbformat": 4,
 "nbformat_minor": 2
}
